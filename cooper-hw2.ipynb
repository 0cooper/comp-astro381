{
 "cells": [
  {
   "cell_type": "markdown",
   "id": "1594bcd1",
   "metadata": {},
   "source": [
    "## Homework 2\n",
    "### Olivia Cooper\n",
    "### Computational Astrophysics, Spring 2022"
   ]
  },
  {
   "cell_type": "code",
   "execution_count": 1,
   "id": "8d9ee183",
   "metadata": {},
   "outputs": [],
   "source": [
    "# the basics\n",
    "\n",
    "import numpy as np\n",
    "import scipy.integrate\n",
    "import matplotlib.pyplot as plt\n",
    "%matplotlib inline\n",
    "import matplotlib\n",
    "import astropy\n",
    "from astropy.io import fits\n",
    "import glob\n",
    "import os\n",
    "from statistics import mean\n",
    "import math\n",
    "from astropy.table import Table, SortedArray\n",
    "import astropy.units as u\n",
    "import astropy.constants as cns\n",
    "import pandas as pd\n",
    "from decimal import *\n",
    "plt.style.use('../cooper-paper.mplstyle')"
   ]
  },
  {
   "cell_type": "code",
   "execution_count": 2,
   "id": "e89aab1f",
   "metadata": {},
   "outputs": [],
   "source": [
    "# function to find closest value in array to specific number\n",
    "\n",
    "def closest(lst, val):\n",
    "    lst = np.asarray(lst) \n",
    "    idx = (np.abs(lst - val)).argmin() \n",
    "    return idx,lst[idx]"
   ]
  },
  {
   "cell_type": "markdown",
   "id": "6cde2813",
   "metadata": {},
   "source": [
    "## Problem 1: Not so fast!"
   ]
  },
  {
   "cell_type": "markdown",
   "id": "08fe7682",
   "metadata": {},
   "source": [
    "Use a perturbation analysis to show that the leapfrog scheme (time-centered\n",
    "difference):\n",
    "\n",
    "$\\rho_j^{n+1} - \\rho_j^{n-1} = -v_0 \\frac{\\Delta t}{\\Delta x} (\\rho_{j+1}^{n} - \\rho_{j-1}^{n})$\n",
    "\n",
    "is conditionally stable, i.e. it is stable as long as $\\Delta t \\leq \\Delta x/v_0$. Assume that $v_0$ is a constant\n",
    "velocity."
   ]
  },
  {
   "cell_type": "code",
   "execution_count": null,
   "id": "9daf68c7",
   "metadata": {},
   "outputs": [],
   "source": []
  }
 ],
 "metadata": {
  "kernelspec": {
   "display_name": "Python 3",
   "language": "python",
   "name": "python3"
  },
  "language_info": {
   "codemirror_mode": {
    "name": "ipython",
    "version": 3
   },
   "file_extension": ".py",
   "mimetype": "text/x-python",
   "name": "python",
   "nbconvert_exporter": "python",
   "pygments_lexer": "ipython3",
   "version": "3.8.8"
  }
 },
 "nbformat": 4,
 "nbformat_minor": 5
}
