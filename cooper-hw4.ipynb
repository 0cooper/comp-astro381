{
 "cells": [
  {
   "cell_type": "markdown",
   "id": "0cf02add",
   "metadata": {},
   "source": [
    "## Homework 4\n",
    "### Olivia Cooper\n",
    "### Computational Astrophysics, Spring 2022"
   ]
  },
  {
   "cell_type": "code",
   "execution_count": 3,
   "id": "e8636016",
   "metadata": {},
   "outputs": [],
   "source": [
    "# the basics\n",
    "\n",
    "import numpy as np\n",
    "import matplotlib.pyplot as plt\n",
    "%matplotlib inline\n",
    "import matplotlib\n",
    "import astropy\n",
    "from astropy.table import Table, SortedArray\n",
    "import astropy.units as u\n",
    "import astropy.constants as cns\n",
    "import rebound\n",
    "import rebound_utils as reb\n",
    "import hyperion\n",
    "plt.style.use('../cooper-paper.mplstyle')"
   ]
  },
  {
   "cell_type": "markdown",
   "id": "94ee040d",
   "metadata": {},
   "source": [
    "### Problem 1:  Integral Processes: MC Edition"
   ]
  },
  {
   "cell_type": "markdown",
   "id": "98b0338b",
   "metadata": {},
   "source": [
    "Revisit HW1 problem 2a. Numerically integrate the function using the MC approach we discussed in class, i.e., instead of using equally spaced points to evaluate the integral, use points randomly drawn from the integral [1,5]. What approach do you like better, why?"
   ]
  },
  {
   "cell_type": "code",
   "execution_count": null,
   "id": "453bd07f",
   "metadata": {},
   "outputs": [],
   "source": []
  },
  {
   "cell_type": "code",
   "execution_count": null,
   "id": "0172376a",
   "metadata": {},
   "outputs": [],
   "source": []
  },
  {
   "cell_type": "markdown",
   "id": "a82f09f7",
   "metadata": {},
   "source": [
    "### Problem 2: A random stroll from the center of the Sun"
   ]
  },
  {
   "cell_type": "markdown",
   "id": "ebf6c8cd",
   "metadata": {},
   "source": [
    "Photons created by nuclear fusion at the Sun’s center do not simply escape or “free-stream” outwards. Instead, they take a significant amount of time to get out due to the high proba- bility of scattering (owing to the relatively large Thomson cross section for scattering), i.e., they take a random walk.\n",
    "\n",
    "Assume the typical mean free path of a photon is l ≃ 4x10−1 cm. Let’s consider a theorist’s sun, which is a 2 dimensional circle with radius 1R⊙. Every time a photon hits an electron (after going 1 mean free path), it is scattered in an arbitrary direction θ. Roughly how long does it take for a photon to escape the Sun after being emitted? (You can round to the nearest power of 10).\n",
    "\n",
    "Use your own random number generate (e.g., like the one we discussed in class) to complete the Monte Carlo. If you are curious, compare this to one of the built in “black boxes” in Python.\n",
    "Note, you might find this problem simplest to do in spherical coordinates where:\n",
    "x = rcosθ, y = rsinθ, \n",
    "but you are welcome to do this in Cartesian coordinates as well. Note, you cannot do this problem by using the actual solar radius – your code will never finish. So, assume a solar radius of 7 cm and see what you get. Then assume a solar radius of 70 cm. Extrapolate accordingly...\n",
    "\n",
    "Use a timer function to figure out how long the “walk clock time” for your code is, i.e., how long do you have to wait for your code to finish. What general lessons do you learn from this exercise?"
   ]
  },
  {
   "cell_type": "code",
   "execution_count": null,
   "id": "2fee9140",
   "metadata": {},
   "outputs": [],
   "source": []
  },
  {
   "cell_type": "code",
   "execution_count": null,
   "id": "cbeaf443",
   "metadata": {},
   "outputs": [],
   "source": []
  },
  {
   "cell_type": "code",
   "execution_count": null,
   "id": "180cf4e4",
   "metadata": {},
   "outputs": [],
   "source": []
  },
  {
   "cell_type": "markdown",
   "id": "b42a2cab",
   "metadata": {},
   "source": [
    "### Problem 3: Observing Dusty Protostars"
   ]
  },
  {
   "cell_type": "markdown",
   "id": "4d3f415c",
   "metadata": {},
   "source": [
    "Now, we will consider a more realistic setup of radiation propagating through a 3D asym- metric gas distribution. In this problem you will use the radiative transfer code, Hyperion, to model an embedded low-mass protostar. Download and install Hyperion from here: http://www.hyperion-rt.org. I suggest perusing Robitaille (2011) to get a sense for how the code works and what sorts of problems it can do."
   ]
  },
  {
   "cell_type": "markdown",
   "id": "f272da35",
   "metadata": {},
   "source": [
    "a) Search through the code and documentation and determine how and where random num- bers are being used in Hyperion (in particular focus on the core algorithm and physics and ignore random numbers appearing in test problems, i.e., the tests directory, and documenta- tion, i.e., the docs directory, although these can explain what is happening). Where and why are they invoked? What generation method is being used? For a given run with identical parameters will the results be deterministic? If you’re not sure you can check!\n"
   ]
  },
  {
   "cell_type": "code",
   "execution_count": 4,
   "id": "bc2f8632",
   "metadata": {},
   "outputs": [
    {
     "ename": "ImportError",
     "evalue": "cannot import name 'six' from 'astropy.extern' (/Users/oc4858/.local/lib/python3.8/site-packages/astropy/extern/__init__.py)",
     "output_type": "error",
     "traceback": [
      "\u001b[0;31m---------------------------------------------------------------------------\u001b[0m",
      "\u001b[0;31mImportError\u001b[0m                               Traceback (most recent call last)",
      "\u001b[0;32m<ipython-input-4-a076d7379533>\u001b[0m in \u001b[0;36m<module>\u001b[0;34m\u001b[0m\n\u001b[0;32m----> 1\u001b[0;31m \u001b[0;32mfrom\u001b[0m \u001b[0mhyperion\u001b[0m\u001b[0;34m.\u001b[0m\u001b[0mmodel\u001b[0m \u001b[0;32mimport\u001b[0m \u001b[0mAnalyticalYSOModel\u001b[0m\u001b[0;34m\u001b[0m\u001b[0;34m\u001b[0m\u001b[0m\n\u001b[0m",
      "\u001b[0;32m/opt/anaconda3/lib/python3.8/site-packages/hyperion/model/__init__.py\u001b[0m in \u001b[0;36m<module>\u001b[0;34m\u001b[0m\n\u001b[0;32m----> 1\u001b[0;31m \u001b[0;32mfrom\u001b[0m \u001b[0;34m.\u001b[0m\u001b[0mmodel\u001b[0m \u001b[0;32mimport\u001b[0m \u001b[0mModel\u001b[0m\u001b[0;34m\u001b[0m\u001b[0;34m\u001b[0m\u001b[0m\n\u001b[0m\u001b[1;32m      2\u001b[0m \u001b[0;32mfrom\u001b[0m \u001b[0;34m.\u001b[0m\u001b[0manalytical_yso_model\u001b[0m \u001b[0;32mimport\u001b[0m \u001b[0mAnalyticalYSOModel\u001b[0m\u001b[0;34m\u001b[0m\u001b[0;34m\u001b[0m\u001b[0m\n\u001b[1;32m      3\u001b[0m \u001b[0;32mfrom\u001b[0m \u001b[0;34m.\u001b[0m\u001b[0mmodel_output\u001b[0m \u001b[0;32mimport\u001b[0m \u001b[0mModelOutput\u001b[0m\u001b[0;34m\u001b[0m\u001b[0;34m\u001b[0m\u001b[0m\n\u001b[1;32m      4\u001b[0m \u001b[0;32mfrom\u001b[0m \u001b[0;34m.\u001b[0m\u001b[0msed\u001b[0m \u001b[0;32mimport\u001b[0m \u001b[0mSED\u001b[0m\u001b[0;34m\u001b[0m\u001b[0;34m\u001b[0m\u001b[0m\n\u001b[1;32m      5\u001b[0m \u001b[0;32mfrom\u001b[0m \u001b[0;34m.\u001b[0m\u001b[0mimage\u001b[0m \u001b[0;32mimport\u001b[0m \u001b[0mImage\u001b[0m\u001b[0;34m\u001b[0m\u001b[0;34m\u001b[0m\u001b[0m\n",
      "\u001b[0;32m/opt/anaconda3/lib/python3.8/site-packages/hyperion/model/model.py\u001b[0m in \u001b[0;36m<module>\u001b[0;34m\u001b[0m\n\u001b[1;32m     10\u001b[0m \u001b[0;34m\u001b[0m\u001b[0m\n\u001b[1;32m     11\u001b[0m \u001b[0;32mfrom\u001b[0m \u001b[0mastropy\u001b[0m \u001b[0;32mimport\u001b[0m \u001b[0mlog\u001b[0m \u001b[0;32mas\u001b[0m \u001b[0mlogger\u001b[0m\u001b[0;34m\u001b[0m\u001b[0;34m\u001b[0m\u001b[0m\n\u001b[0;32m---> 12\u001b[0;31m \u001b[0;32mfrom\u001b[0m \u001b[0mastropy\u001b[0m\u001b[0;34m.\u001b[0m\u001b[0mextern\u001b[0m \u001b[0;32mimport\u001b[0m \u001b[0msix\u001b[0m\u001b[0;34m\u001b[0m\u001b[0;34m\u001b[0m\u001b[0m\n\u001b[0m\u001b[1;32m     13\u001b[0m \u001b[0;34m\u001b[0m\u001b[0m\n\u001b[1;32m     14\u001b[0m \u001b[0;32mfrom\u001b[0m \u001b[0;34m.\u001b[0m\u001b[0;34m.\u001b[0m\u001b[0mversion\u001b[0m \u001b[0;32mimport\u001b[0m \u001b[0m__version__\u001b[0m\u001b[0;34m\u001b[0m\u001b[0;34m\u001b[0m\u001b[0m\n",
      "\u001b[0;31mImportError\u001b[0m: cannot import name 'six' from 'astropy.extern' (/Users/oc4858/.local/lib/python3.8/site-packages/astropy/extern/__init__.py)"
     ]
    }
   ],
   "source": [
    "from hyperion.model import AnalyticalYSOModel"
   ]
  },
  {
   "cell_type": "markdown",
   "id": "290af747",
   "metadata": {},
   "source": [
    "b) Use the documentation example for setting up “Analytical YSO Models” to initialize a model of a star with envelope and disk. I suggest starting with 10,000 photons (initial, imaging and raytracing). Make a plot showing the SEDs of this source viewed from several different angles, assuming a distance of 300 pc. Explain any features of the SED. How does the SED change with viewing angle and why?1"
   ]
  },
  {
   "cell_type": "code",
   "execution_count": null,
   "id": "ba8514c9",
   "metadata": {},
   "outputs": [],
   "source": []
  },
  {
   "cell_type": "code",
   "execution_count": null,
   "id": "f4bed971",
   "metadata": {},
   "outputs": [],
   "source": []
  },
  {
   "cell_type": "markdown",
   "id": "7bcd7efb",
   "metadata": {},
   "source": [
    "c) Vary the number of photon packets and grid resolution. How many photons and what resolution would you need to produce a converged SED? Describe your convergence criteria and make a plot showing the dependence of the SED on different values."
   ]
  },
  {
   "cell_type": "code",
   "execution_count": null,
   "id": "71cc8c84",
   "metadata": {},
   "outputs": [],
   "source": []
  },
  {
   "cell_type": "code",
   "execution_count": null,
   "id": "96e5b407",
   "metadata": {},
   "outputs": [],
   "source": []
  },
  {
   "cell_type": "markdown",
   "id": "40ef760d",
   "metadata": {},
   "source": [
    "d) Optional: Experiment with making images. How much resolution do you require to image the source without too much noise?"
   ]
  },
  {
   "cell_type": "code",
   "execution_count": null,
   "id": "ebcda53b",
   "metadata": {},
   "outputs": [],
   "source": []
  }
 ],
 "metadata": {
  "kernelspec": {
   "display_name": "Python 3",
   "language": "python",
   "name": "python3"
  },
  "language_info": {
   "codemirror_mode": {
    "name": "ipython",
    "version": 3
   },
   "file_extension": ".py",
   "mimetype": "text/x-python",
   "name": "python",
   "nbconvert_exporter": "python",
   "pygments_lexer": "ipython3",
   "version": "3.8.8"
  }
 },
 "nbformat": 4,
 "nbformat_minor": 5
}
